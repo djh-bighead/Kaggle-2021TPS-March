{
 "cells": [
  {
   "cell_type": "code",
   "execution_count": 1,
   "metadata": {},
   "outputs": [],
   "source": [
    "import pandas as pd\n",
    "import numpy as np\n",
    "import optuna\n",
    "\n",
    "from sklearn.model_selection import train_test_split\n",
    "from sklearn.metrics import roc_auc_score\n",
    "from sklearn.model_selection import KFold , StratifiedKFold\n",
    "import lightgbm"
   ]
  },
  {
   "cell_type": "code",
   "execution_count": 2,
   "metadata": {},
   "outputs": [],
   "source": [
    "train = pd.read_csv('D:/Kaggle/tabular-playground-series-mar-2021/train.csv')\n",
    "test = pd.read_csv('D:/Kaggle/tabular-playground-series-mar-2021/test.csv')\n",
    "sub = pd.read_csv('D:/Kaggle/tabular-playground-series-mar-2021/sample_submission.csv')"
   ]
  },
  {
   "cell_type": "code",
   "execution_count": 3,
   "metadata": {},
   "outputs": [],
   "source": [
    "cat = [col for col in train.columns if 'cat' in col]\n",
    "cont = [col for col in test.columns if 'cont' in col]\n",
    "all_features = cat + cont"
   ]
  },
  {
   "cell_type": "code",
   "execution_count": 4,
   "metadata": {},
   "outputs": [
    {
     "data": {
      "text/plain": [
       "[0, 1, 2, 3, 4, 5, 6, 7, 8, 9, 10, 11, 12, 13, 14, 15, 16, 17, 18]"
      ]
     },
     "execution_count": 4,
     "metadata": {},
     "output_type": "execute_result"
    }
   ],
   "source": [
    "[x for x in range(19)]"
   ]
  },
  {
   "cell_type": "code",
   "execution_count": 5,
   "metadata": {},
   "outputs": [],
   "source": [
    "all_df = pd.concat([train , test]).reset_index(drop = True)\n",
    "\n",
    "from sklearn.preprocessing import LabelEncoder\n",
    "le = LabelEncoder()\n",
    "for col in cat:\n",
    "    all_df[col] = le.fit_transform(all_df[col])\n",
    "\n",
    "train = all_df[:train.shape[0]]\n",
    "test = all_df[train.shape[0]:]"
   ]
  },
  {
   "cell_type": "code",
   "execution_count": 6,
   "metadata": {},
   "outputs": [],
   "source": [
    "data = train[all_features]\n",
    "target = train['target']"
   ]
  },
  {
   "cell_type": "code",
   "execution_count": 7,
   "metadata": {},
   "outputs": [],
   "source": [
    "def objective(trial , data = data , target = target):\n",
    "    train_x , test_x , train_y , test_y = train_test_split(data , target , \\\n",
    "            test_size = 0.028059109276941666 , random_state = 42)\n",
    "    \n",
    "    params = {\n",
    "        'reg_alpha' : trial.suggest_loguniform('reg_alpha' , 1e-5 , 10),\n",
    "        'reg_lambda' : trial.suggest_loguniform('reg_lambda' , 1e-5 , 10),\n",
    "        'num_leaves' : trial.suggest_int('num_leaves' , 11 , 300),\n",
    "        'learning_rate' : trial.suggest_uniform('learning_rate' , 0 , 0.1),\n",
    "        'max_depth' : trial.suggest_int('max_depth' , 5 , 20),\n",
    "        'n_estimators' : trial.suggest_int('n_estimators' , 1 , 9999),\n",
    "        'min_child_samples' : trial.suggest_int('min_child_samples' , 1 , 100),\n",
    "        'min_child_weight' : trial.suggest_loguniform('min_child_weight' , 1e-5 , 1),\n",
    "        'subsample' : trial.suggest_uniform('subsample' , 0 , 1.0),\n",
    "        'colsample_bytree' : trial.suggest_loguniform('colsample_bytree' , 1e-5 , 1),\n",
    "        'random_state' : trial.suggest_categorical('random_state' , [0,42,2021,555]),\n",
    "        'metric' : 'auc',\n",
    "        'device_type' : 'gpu',\n",
    "    }\n",
    "    model = lightgbm.LGBMClassifier(**params)\n",
    "    model.fit(train_x , train_y , eval_set = [(test_x , test_y)] , early_stopping_rounds = 200 , \\\n",
    "             verbose = False)\n",
    "    preds = model.predict_proba(test_x)[:,1]\n",
    "    auc = roc_auc_score(test_y , preds)\n",
    "    return auc"
   ]
  },
  {
   "cell_type": "code",
   "execution_count": 11,
   "metadata": {},
   "outputs": [],
   "source": [
    "params = {'reg_alpha': 4.203457823159052, 'reg_lambda': 6.34173530304477, 'num_leaves': 148,\n",
    " 'min_child_samples': 55, 'max_depth': 16, 'learning_rate': 0.01, 'colsample_bytree': 0.22290988791359692,\n",
    " 'n_estimators': 2703, 'cat_smooth': 37, 'cat_l2': 10, 'min_data_per_group': 97,\n",
    " 'random_state': 26, 'cat_feature': [0,  1,  2,  3,  4,  5,  6,  7,  8,  9,  10,  11,  12,  13,  14,\n",
    "  15,  16,  17,  18], 'n_jobs': -1, 'boosting_type': 'gbdt', 'metric': 'AUC'}"
   ]
  },
  {
   "cell_type": "code",
   "execution_count": 15,
   "metadata": {},
   "outputs": [
    {
     "name": "stdout",
     "output_type": "stream",
     "text": [
      "1 0.8976450496237536\n",
      "2 0.8963186744096598\n",
      "3 0.8954935295161888\n",
      "4 0.8985807857121724\n",
      "5 0.8995563305214851\n",
      "6 0.9014764463869501\n",
      "7 0.9003504502957043\n",
      "8 0.8971815733803654\n",
      "9 0.8934800814625119\n",
      "10 0.898205388963343\n",
      "11 0.8959691927185198\n",
      "12 0.8947750654643947\n",
      "13 0.9024335433236897\n",
      "14 0.8950173521536375\n",
      "15 0.8975365072067966\n",
      "16 0.8950415397396133\n",
      "17 0.8976524124754742\n",
      "18 0.8984357615974982\n",
      "19 0.8991995963189472\n",
      "20 0.8955153801977825\n",
      "21 0.9005652962370743\n",
      "22 0.901867677060704\n",
      "23 0.8969120463884005\n",
      "24 0.8955881997241384\n",
      "25 0.8971689688780745\n",
      "26 0.8942803240561359\n",
      "27 0.8983971436258342\n",
      "28 0.8963174734150956\n",
      "29 0.8984040250197212\n",
      "30 0.8977287754061446\n"
     ]
    }
   ],
   "source": [
    "preds = np.zeros(test.shape[0])\n",
    "oof_preds = np.zeros(train.shape[0])\n",
    "kf = StratifiedKFold(n_splits = 30 , random_state = 0 , shuffle = True)\n",
    "roc = []\n",
    "n = 0\n",
    "for trn_idx , val_idx in kf.split(data , target):\n",
    "    train_x = data.iloc[trn_idx]\n",
    "    train_y = target.iloc[trn_idx]\n",
    "    val_x = data.iloc[val_idx]\n",
    "    val_y = target.iloc[val_idx]\n",
    "    \n",
    "    model = lightgbm.LGBMClassifier(**params)\n",
    "    model.fit(train_x , train_y , eval_set = [(val_x , val_y)], early_stopping_rounds = 200 ,\n",
    "             verbose = False)\n",
    "    preds += model.predict_proba(test[all_features])[:,1]/kf.n_splits\n",
    "    oof_preds += model.predict_proba(data[all_features])[:,1]/kf.n_splits\n",
    "    roc.append(roc_auc_score(val_y , model.predict_proba(val_x)[:,1]))\n",
    "    print(n+1 , roc[n])\n",
    "    n+=1"
   ]
  },
  {
   "cell_type": "code",
   "execution_count": 16,
   "metadata": {},
   "outputs": [],
   "source": [
    "sub['target'] = preds\n",
    "sub.to_csv('slgbmsubmission.csv' , index = False)"
   ]
  },
  {
   "cell_type": "code",
   "execution_count": 17,
   "metadata": {},
   "outputs": [],
   "source": [
    "output = pd.DataFrame({'id':train['id'] , 'target':oof_preds})\n",
    "output.to_csv('slgbmoof_predictions.csv' , index = False)"
   ]
  },
  {
   "cell_type": "code",
   "execution_count": null,
   "metadata": {},
   "outputs": [],
   "source": []
  }
 ],
 "metadata": {
  "kernelspec": {
   "display_name": "Python 3",
   "language": "python",
   "name": "python3"
  },
  "language_info": {
   "codemirror_mode": {
    "name": "ipython",
    "version": 3
   },
   "file_extension": ".py",
   "mimetype": "text/x-python",
   "name": "python",
   "nbconvert_exporter": "python",
   "pygments_lexer": "ipython3",
   "version": "3.7.3"
  }
 },
 "nbformat": 4,
 "nbformat_minor": 4
}
